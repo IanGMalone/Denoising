{
 "cells": [
  {
   "cell_type": "markdown",
   "id": "specified-burton",
   "metadata": {},
   "source": [
    "# Denoising Project\n",
    "*Ian Malone*"
   ]
  },
  {
   "cell_type": "markdown",
   "id": "analyzed-commonwealth",
   "metadata": {},
   "source": [
    "### Project Description"
   ]
  },
  {
   "cell_type": "markdown",
   "id": "sticky-annual",
   "metadata": {},
   "source": [
    "The purpose of this project is to design and evaluate the performance of a machine learning algorithm using the normalized LMS algorithm (or one of its variants) that will clean the desired input (speech plus noise) from the machine noise (input). This is an example of the interference canceling problem explained below."
   ]
  },
  {
   "cell_type": "markdown",
   "id": "integrated-poultry",
   "metadata": {},
   "source": [
    "Speech data is collected in a noisy room (loud vacuum cleaner) by two microphones: one in a table that captures speech with the vacuum cleaner noise (d(n)) and the other very close to the vacuum cleaner (n(n)) that basically has no speech. Even if you listen to d(n) the speech is barely audible, and the message is not understandable. The goal is to denoise d(n) and be able to understand the speech. I suggest that you use the signal n(n) as the input to the LMS algorithm and use d(n) as the desired response. "
   ]
  },
  {
   "cell_type": "markdown",
   "id": "engaging-relief",
   "metadata": {},
   "source": []
  },
  {
   "cell_type": "markdown",
   "id": "previous-polish",
   "metadata": {},
   "source": []
  },
  {
   "cell_type": "markdown",
   "id": "crazy-deviation",
   "metadata": {},
   "source": [
    "Start with a 2-tap filter\n",
    "1- Plots of the performance surface contours for the two weights filter case.\n",
    "2- Plot the weight tracks\n",
    "3- Plot the learning curve and interpret it.\n",
    "4- Estimate the frequency response from the desired signal to the error when the filter is adapted.\n",
    "5- Estimate the SNR improvement in dB by the ERLE=10log(E{d2\n",
    "}/(E[e2\n",
    "])."
   ]
  },
  {
   "cell_type": "markdown",
   "id": "impaired-victoria",
   "metadata": {},
   "source": [
    "Increase the filter order based on an analysis of performance. Explain your choice for the filter order. \n"
   ]
  },
  {
   "cell_type": "markdown",
   "id": "looking-lunch",
   "metadata": {},
   "source": [
    "1- Estimate again the frequency response from the desired signal to the error.\n",
    "2- Compute the SNR improvement in dB\n",
    "3- Evaluate the filter performance as a function of the stepsize.\n",
    "4- Estimate the misadjustment.\n",
    "5- Comment on the results obtained and address issues related to the convergence of the algorithm in nonstationary environments."
   ]
  },
  {
   "cell_type": "markdown",
   "id": "minor-composition",
   "metadata": {},
   "source": [
    "You can use a FIR filter, a gamma filter or the KLMS to compare performance. "
   ]
  },
  {
   "cell_type": "code",
   "execution_count": null,
   "id": "strategic-cattle",
   "metadata": {},
   "outputs": [],
   "source": []
  },
  {
   "cell_type": "code",
   "execution_count": null,
   "id": "adult-shark",
   "metadata": {},
   "outputs": [],
   "source": []
  },
  {
   "cell_type": "code",
   "execution_count": null,
   "id": "proof-hardware",
   "metadata": {},
   "outputs": [],
   "source": []
  },
  {
   "cell_type": "code",
   "execution_count": null,
   "id": "fossil-commitment",
   "metadata": {},
   "outputs": [],
   "source": [
    "#You will find the data set project1.mat in Canvas. This file contains a .mat file with two channel data labeled desired (d) and input (n). The sampling frequency is 21 KHz."
   ]
  }
 ],
 "metadata": {
  "kernelspec": {
   "display_name": "Python 3",
   "language": "python",
   "name": "python3"
  },
  "language_info": {
   "codemirror_mode": {
    "name": "ipython",
    "version": 3
   },
   "file_extension": ".py",
   "mimetype": "text/x-python",
   "name": "python",
   "nbconvert_exporter": "python",
   "pygments_lexer": "ipython3",
   "version": "3.8.5"
  }
 },
 "nbformat": 4,
 "nbformat_minor": 5
}
