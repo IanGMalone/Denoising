{
 "cells": [
  {
   "cell_type": "markdown",
   "id": "pediatric-sigma",
   "metadata": {},
   "source": [
    "# Denoising Project\n",
    "*Ian Malone*"
   ]
  },
  {
   "cell_type": "markdown",
   "id": "canadian-march",
   "metadata": {},
   "source": [
    "### Project Description"
   ]
  },
  {
   "cell_type": "markdown",
   "id": "perceived-grill",
   "metadata": {},
   "source": [
    "The purpose of this project is to design and evaluate the performance of a machine learning algorithm using the normalized LMS algorithm (or one of its variants) that will clean the desired input (speech plus noise) from the machine noise (input). This is an example of the interference canceling problem explained below."
   ]
  },
  {
   "cell_type": "markdown",
   "id": "fifty-aquatic",
   "metadata": {},
   "source": [
    "Speech data is collected in a noisy room (loud vacuum cleaner) by two microphones: one on a table that captures speech with the vacuum cleaner noise (d(n)) and the other very close to the vacuum cleaner (n(n)) that basically has no speech. Even if you listen to d(n), the speech is barely audible, and the message is not understandable. The goal is to denoise d(n) and be able to understand the speech. It is suggested to use the signal n(n) as the input to the LMS algorithm and use d(n) as the desired response. "
   ]
  },
  {
   "cell_type": "markdown",
   "id": "parliamentary-ratio",
   "metadata": {},
   "source": [
    "### Project Steps"
   ]
  },
  {
   "cell_type": "markdown",
   "id": "centered-minutes",
   "metadata": {},
   "source": [
    "Start with a 2-tap filter:\n",
    "\n",
    " - Plots of the performance surface contours for the two weights filter case.\n",
    " - Plot the weight tracks\n",
    " - Plot the learning curve and interpret it.\n",
    " - Estimate the frequency response from the desired signal to the error when the filter is adapted.\n",
    " - Estimate the SNR improvement in dB by: \n",
    "    $ERLE=10\\log(\\frac{E[d^{2}]}{E[e^{2}]})$\n",
    "    \n",
    "Increase the filter order based on an analysis of performance. Explain your choice for the filter order.\n",
    "\n",
    " - Estimate again the frequency response from the desired signal to the error.\n",
    " - Compute the SNR improvement in dB\n",
    " - Evaluate the filter performance as a function of the stepsize.\n",
    " - Estimate the misadjustment.\n",
    " - Comment on the results obtained and address issues related to the convergence of the algorithm in nonstationary environments.\n",
    " \n",
    "You can use a FIR filter, a gamma filter or the KLMS to compare performance. "
   ]
  },
  {
   "cell_type": "markdown",
   "id": "incoming-peeing",
   "metadata": {},
   "source": [
    "### Project Implementation"
   ]
  },
  {
   "cell_type": "code",
   "execution_count": 3,
   "id": "peaceful-spring",
   "metadata": {},
   "outputs": [],
   "source": [
    "#You will find the data set project1.mat in Canvas. This file contains a .mat file with two channel data labeled desired (d) and input (n). The sampling frequency is 21 KHz."
   ]
  },
  {
   "cell_type": "code",
   "execution_count": null,
   "id": "monthly-cholesterol",
   "metadata": {},
   "outputs": [],
   "source": []
  }
 ],
 "metadata": {
  "kernelspec": {
   "display_name": "Python 3",
   "language": "python",
   "name": "python3"
  },
  "language_info": {
   "codemirror_mode": {
    "name": "ipython",
    "version": 3
   },
   "file_extension": ".py",
   "mimetype": "text/x-python",
   "name": "python",
   "nbconvert_exporter": "python",
   "pygments_lexer": "ipython3",
   "version": "3.8.5"
  }
 },
 "nbformat": 4,
 "nbformat_minor": 5
}
